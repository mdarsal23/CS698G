{
 "cells": [
  {
   "cell_type": "markdown",
   "id": "f6f4fb82",
   "metadata": {
    "id": "f6f4fb82"
   },
   "source": [
    "## Introduction\n",
    "\n",
    "We have learned AES on lectures. This assignment aims to develop its practical applications and analyze security.\n",
    "You will face two kinds of questions: short-answer questions and implementation questions. They always start with a red <font color=\"red\">Question xx</font>. There are <b>14 Questions</b> in total.\n",
    "\n",
    "For short answer questions, please type your answer in the next block (by double click that block).\n",
    "\n",
    "For implementation questions, please finish the corresponding implementation by typing your code between the comments <font color=\"green\">\"You code starts\"</font> and <font color=\"green\">\"You code ends\"</font>. Please read the requiremnts carefully for each question. Unable to follow them will attract 0 marks for corresponding questions.\n",
    "\n",
    "The total marks for this assignment is 130, contributing as 13% to the subject marks.\n",
    "\n",
    "<b>Evaluation</b>: Your iPython notebook should run end-to-end without any errors in a reasonable amount of time, and you must follow all instructions provided below, including specific implementation requirements and instructions for what needs to be printed (please avoid printing output we don't ask for). You should edit the sections below where requested, but leave the rest of the code as is. You should leave the output from running your code in the iPython notebook you submit, to assist with marking. The amount each section is worth is given in parenthesis after the instructions. <b> You should use Python 3</b>. Our marking script is running at Python 3.10.16.\n",
    "\n",
    "<font color=\"red\">Important: Importing any library is prohibited! Using any of them will attract 0 mark for all corresponding questions!</font>\n",
    "\n",
    "<b>Academic misconduct</b>: For most people, collaboration will form a natural part of the undertaking of this homework, and we encourage you to discuss it in general terms with other students. However, this ultimately is still an individual task, and so reuse of code or other instances of clear influence will be considered cheating. We will be checking submissions for originality and will invoke the University’s Academic Misconduct policy where inappropriate levels of collusion or plagiarism are deemed to have taken place."
   ]
  },
  {
   "cell_type": "markdown",
   "id": "89981808",
   "metadata": {},
   "source": [
    "---------------------------------------------------------"
   ]
  },
  {
   "cell_type": "markdown",
   "id": "5d03b193",
   "metadata": {},
   "source": [
    "<font color=\"green\">Please sign your student name and ID there.</font>\n",
    "\n",
    "By signing my name there, I agree:\n",
    "\n",
    "   (1) I certify that the program contained in this submission is completely\n",
    "   my own individual work, except where explicitly noted by comments that\n",
    "   provide details otherwise.  I understand that work that has been developed\n",
    "   by another student, or by me in collaboration with other students,\n",
    "   or by non-students as a result of request, solicitation, or payment,\n",
    "   may not be submitted for assessment in this subject.  I understand that\n",
    "   submitting for assessment work developed by or in collaboration with\n",
    "   other students or non-students constitutes Academic Misconduct, and\n",
    "   may be penalized by mark deductions, or by other penalties determined\n",
    "   via the University.\n",
    "\n",
    "   (2) I also certify that I have not provided a copy of this work in either\n",
    "   softcopy or hardcopy or any other form to any other student, and nor will\n",
    "   I do so until after the marks are released. I understand that providing\n",
    "   my work to other students, regardless of my intention or any undertakings\n",
    "   made to me by that other student, is also Academic Misconduct.\n",
    "\n",
    "   (3) I further understand that providing a copy of the assignment\n",
    "   specification to any form of code authoring or assignment tutoring\n",
    "   service, or drawing the attention of others to such services and code\n",
    "   that may have been made available via such a service, may be regarded\n",
    "   as Student General Misconduct (interfering with the teaching activities\n",
    "   of the University and/or inciting others to commit Academic Misconduct).\n",
    "   I understand that an allegation of Student General Misconduct may arise\n",
    "   regardless of whether or not I personally make use of such solutions\n",
    "   or sought benefit from such actions.\n",
    "\n",
    "\n",
    "Student Name: Md Arsal Asif\n",
    "\n",
    "Student ID: 230643\n",
    "\n",
    "Date: 10-06-25"
   ]
  },
  {
   "cell_type": "markdown",
   "id": "c6969239",
   "metadata": {
    "id": "c6969239"
   },
   "source": [
    "---------------------------------------------------------"
   ]
  },
  {
   "cell_type": "markdown",
   "id": "b618b297",
   "metadata": {
    "id": "b618b297"
   },
   "source": [
    "## Section 0: Preparison\n",
    "#### [40 marks]\n",
    "We are going to develop AES-128. Please review its mechanism from the slides and Stalling's book.\n",
    "\n",
    "Followings are some default parameters used by AES. Please ensure you have already run them when you re-start this notebook. Do not modify it."
   ]
  },
  {
   "cell_type": "code",
   "execution_count": 1,
   "id": "d0d5aa77",
   "metadata": {
    "id": "d0d5aa77"
   },
   "outputs": [],
   "source": [
    "SBOX = [\n",
    "    [0x63, 0x7C, 0x77, 0x7B, 0xF2, 0x6B, 0x6F, 0xC5, 0x30, 0x01, 0x67, 0x2B, 0xFE, 0xD7, 0xAB, 0x76],\n",
    "    [0xCA, 0x82, 0xC9, 0x7D, 0xFA, 0x59, 0x47, 0xF0, 0xAD, 0xD4, 0xA2, 0xAF, 0x9C, 0xA4, 0x72, 0xC0],\n",
    "    [0xB7, 0xFD, 0x93, 0x26, 0x36, 0x3F, 0xF7, 0xCC, 0x34, 0xA5, 0xE5, 0xF1, 0x71, 0xD8, 0x31, 0x15],\n",
    "    [0x04, 0xC7, 0x23, 0xC3, 0x18, 0x96, 0x05, 0x9A, 0x07, 0x12, 0x80, 0xE2, 0xEB, 0x27, 0xB2, 0x75],\n",
    "    [0x09, 0x83, 0x2C, 0x1A, 0x1B, 0x6E, 0x5A, 0xA0, 0x52, 0x3B, 0xD6, 0xB3, 0x29, 0xE3, 0x2F, 0x84],\n",
    "    [0x53, 0xD1, 0x00, 0xED, 0x20, 0xFC, 0xB1, 0x5B, 0x6A, 0xCB, 0xBE, 0x39, 0x4A, 0x4C, 0x58, 0xCF],\n",
    "    [0xD0, 0xEF, 0xAA, 0xFB, 0x43, 0x4D, 0x33, 0x85, 0x45, 0xF9, 0x02, 0x7F, 0x50, 0x3C, 0x9F, 0xA8],\n",
    "    [0x51, 0xA3, 0x40, 0x8F, 0x92, 0x9D, 0x38, 0xF5, 0xBC, 0xB6, 0xDA, 0x21, 0x10, 0xFF, 0xF3, 0xD2],\n",
    "    [0xCD, 0x0C, 0x13, 0xEC, 0x5F, 0x97, 0x44, 0x17, 0xC4, 0xA7, 0x7E, 0x3D, 0x64, 0x5D, 0x19, 0x73],\n",
    "    [0x60, 0x81, 0x4F, 0xDC, 0x22, 0x2A, 0x90, 0x88, 0x46, 0xEE, 0xB8, 0x14, 0xDE, 0x5E, 0x0B, 0xDB],\n",
    "    [0xE0, 0x32, 0x3A, 0x0A, 0x49, 0x06, 0x24, 0x5C, 0xC2, 0xD3, 0xAC, 0x62, 0x91, 0x95, 0xE4, 0x79],\n",
    "    [0xE7, 0xC8, 0x37, 0x6D, 0x8D, 0xD5, 0x4E, 0xA9, 0x6C, 0x56, 0xF4, 0xEA, 0x65, 0x7A, 0xAE, 0x08],\n",
    "    [0xBA, 0x78, 0x25, 0x2E, 0x1C, 0xA6, 0xB4, 0xC6, 0xE8, 0xDD, 0x74, 0x1F, 0x4B, 0xBD, 0x8B, 0x8A],\n",
    "    [0x70, 0x3E, 0xB5, 0x66, 0x48, 0x03, 0xF6, 0x0E, 0x61, 0x35, 0x57, 0xB9, 0x86, 0xC1, 0x1D, 0x9E],\n",
    "    [0xE1, 0xF8, 0x98, 0x11, 0x69, 0xD9, 0x8E, 0x94, 0x9B, 0x1E, 0x87, 0xE9, 0xCE, 0x55, 0x28, 0xDF],\n",
    "    [0x8C, 0xA1, 0x89, 0x0D, 0xBF, 0xE6, 0x42, 0x68, 0x41, 0x99, 0x2D, 0x0F, 0xB0, 0x54, 0xBB, 0x16]\n",
    "]\n",
    "\n",
    "INV_SBOX = [\n",
    "    [0x52, 0x09, 0x6A, 0xD5, 0x30, 0x36, 0xA5, 0x38, 0xBF, 0x40, 0xA3, 0x9E, 0x81, 0xF3, 0xD7, 0xFB],\n",
    "    [0x7C, 0xE3, 0x39, 0x82, 0x9B, 0x2F, 0xFF, 0x87, 0x34, 0x8E, 0x43, 0x44, 0xC4, 0xDE, 0xE9, 0xCB],\n",
    "    [0x54, 0x7B, 0x94, 0x32, 0xA6, 0xC2, 0x23, 0x3D, 0xEE, 0x4C, 0x95, 0x0B, 0x42, 0xFA, 0xC3, 0x4E],\n",
    "    [0x08, 0x2E, 0xA1, 0x66, 0x28, 0xD9, 0x24, 0xB2, 0x76, 0x5B, 0xA2, 0x49, 0x6D, 0x8B, 0xD1, 0x25],\n",
    "    [0x72, 0xF8, 0xF6, 0x64, 0x86, 0x68, 0x98, 0x16, 0xD4, 0xA4, 0x5C, 0xCC, 0x5D, 0x65, 0xB6, 0x92],\n",
    "    [0x6C, 0x70, 0x48, 0x50, 0xFD, 0xED, 0xB9, 0xDA, 0x5E, 0x15, 0x46, 0x57, 0xA7, 0x8D, 0x9D, 0x84],\n",
    "    [0x90, 0xD8, 0xAB, 0x00, 0x8C, 0xBC, 0xD3, 0x0A, 0xF7, 0xE4, 0x58, 0x05, 0xB8, 0xB3, 0x45, 0x06],\n",
    "    [0xD0, 0x2C, 0x1E, 0x8F, 0xCA, 0x3F, 0x0F, 0x02, 0xC1, 0xAF, 0xBD, 0x03, 0x01, 0x13, 0x8A, 0x6B],\n",
    "    [0x3A, 0x91, 0x11, 0x41, 0x4F, 0x67, 0xDC, 0xEA, 0x97, 0xF2, 0xCF, 0xCE, 0xF0, 0xB4, 0xE6, 0x73],\n",
    "    [0x96, 0xAC, 0x74, 0x22, 0xE7, 0xAD, 0x35, 0x85, 0xE2, 0xF9, 0x37, 0xE8, 0x1C, 0x75, 0xDF, 0x6E],\n",
    "    [0x47, 0xF1, 0x1A, 0x71, 0x1D, 0x29, 0xC5, 0x89, 0x6F, 0xB7, 0x62, 0x0E, 0xAA, 0x18, 0xBE, 0x1B],\n",
    "    [0xFC, 0x56, 0x3E, 0x4B, 0xC6, 0xD2, 0x79, 0x20, 0x9A, 0xDB, 0xC0, 0xFE, 0x78, 0xCD, 0x5A, 0xF4],\n",
    "    [0x1F, 0xDD, 0xA8, 0x33, 0x88, 0x07, 0xC7, 0x31, 0xB1, 0x12, 0x10, 0x59, 0x27, 0x80, 0xEC, 0x5F],\n",
    "    [0x60, 0x51, 0x7F, 0xA9, 0x19, 0xB5, 0x4A, 0x0D, 0x2D, 0xE5, 0x7A, 0x9F, 0x93, 0xC9, 0x9C, 0xEF],\n",
    "    [0xA0, 0xE0, 0x3B, 0x4D, 0xAE, 0x2A, 0xF5, 0xB0, 0xC8, 0xEB, 0xBB, 0x3C, 0x83, 0x53, 0x99, 0x61],\n",
    "    [0x17, 0x2B, 0x04, 0x7E, 0xBA, 0x77, 0xD6, 0x26, 0xE1, 0x69, 0x14, 0x63, 0x55, 0x21, 0x0C, 0x7D],\n",
    "]\n",
    "\n",
    "RCON = [\n",
    "    0x00, 0x01, 0x02, 0x04, 0x08, 0x10, 0x20, 0x40, 0x80, 0x1B, 0x36\n",
    "]"
   ]
  },
  {
   "cell_type": "markdown",
   "id": "2f96c308",
   "metadata": {
    "id": "2f96c308"
   },
   "source": [
    "#### Data Representations\n",
    "\n",
    "Recall that all data stored in the computer are formatted as bytes. In this assignment, we are going to represent an n-bytes data as a 1-D hexidecimals array. For example, a 5-byte data can be represented as:"
   ]
  },
  {
   "cell_type": "code",
   "execution_count": 2,
   "id": "6777c88c",
   "metadata": {
    "id": "6777c88c"
   },
   "outputs": [],
   "source": [
    "data = [0xff, 0x01, 0x4b, 0x22, 0x00]"
   ]
  },
  {
   "cell_type": "markdown",
   "id": "e0bb98f2",
   "metadata": {
    "id": "e0bb98f2"
   },
   "source": [
    "0x informs the computer that it is a hexadecimal representation, and the following characters (i.e. 4b) represents the value in hexadecimal format. Note that the value for each byte is 0~255, corresponding to 0x00~0xff."
   ]
  },
  {
   "cell_type": "markdown",
   "id": "04b5a820",
   "metadata": {
    "id": "04b5a820"
   },
   "source": [
    "<font color=\"red\" size=\"4\">Question 1:</font> [6 mark]\n",
    "\n",
    "What are the size for the master key, input block, and output block in AES-128/192/256?\n"
   ]
  },
  {
   "cell_type": "markdown",
   "id": "6563ad62",
   "metadata": {
    "id": "6563ad62"
   },
   "source": [
    "<span style=\"color:green;\">(Double click this block)</span> Your answer goes there..............................Input and output block is 128 for all AES versions meanwhile keysize for AES-128 is 128, AES-192 is 192 ans AES-256 is 256.\n",
    "\n"
   ]
  },
  {
   "cell_type": "markdown",
   "id": "d79dd133",
   "metadata": {
    "id": "d79dd133"
   },
   "source": [
    "Before we start our implementation, we need some help functions for basic operations.\n",
    "\n",
    "<font color=\"red\" size=\"4\">Question 2:</font> [5 mark]\n",
    "\n",
    "Recall that AES operates on a 4x4 2-D <b>column-major order</b> matrix of 16 bytes. We thus need to convert our 1-D byte array data into such a 4x4 2-D byte matrix. Now finish \"to_matrix\" and \"to_bytes\" that convert the 1-D byte array to its 2-D <b>column-major order</b> matrix and convert it back respectively.\n",
    "\n",
    "![Image](imgs/1.png)"
   ]
  },
  {
   "cell_type": "code",
   "execution_count": 3,
   "id": "a523ca09",
   "metadata": {
    "id": "a523ca09"
   },
   "outputs": [],
   "source": [
    "## Input: 1-D byte array\n",
    "## Output: 2-D byte matrix\n",
    "def to_matrix(data):\n",
    "    ### Your code starts ###\n",
    "    matrix = [[0 for _ in range(4)] for _ in range(4)]\n",
    "    for i in range(16):\n",
    "        row = i % 4  \n",
    "        col = i // 4\n",
    "        matrix[row][col] = data[i]\n",
    "    ### Your code ends ###\n",
    "    return matrix\n",
    "\n",
    "## Input: 2-D byte matrix\n",
    "## Output: 1-D byte array\n",
    "def to_array(matrix):\n",
    "    ### Your code starts ###\n",
    "    array = []\n",
    "    for col in range(4):  \n",
    "        for row in range(4):\n",
    "            array.append(matrix[row][col])\n",
    "    ### Your code ends ###\n",
    "    return array\n"
   ]
  },
  {
   "cell_type": "code",
   "execution_count": 4,
   "id": "0ef4c81a",
   "metadata": {
    "colab": {
     "base_uri": "https://localhost:8080/"
    },
    "executionInfo": {
     "elapsed": 7,
     "status": "ok",
     "timestamp": 1745415447839,
     "user": {
      "displayName": "Zhenzhi Lai",
      "userId": "16652960652183855505"
     },
     "user_tz": -600
    },
    "id": "0ef4c81a",
    "outputId": "451df663-5a43-43cb-8fdb-e1c7d290ea92"
   },
   "outputs": [],
   "source": [
    "## For your check\n",
    "test_array = [0x01, 0x02, 0x03, 0x04, 0x05, 0x06, 0x07, 0x08, 0x09, 0x0A, 0x0B, 0x0C, 0x0D, 0x0E, 0x0F, 0x10]\n",
    "assert len(to_matrix(test_array)) == 4\n",
    "# for row in to_matrix(test_array):\n",
    "#     print(row)\n",
    "for row in to_matrix(test_array):\n",
    "    assert len(row) == 4\n",
    "assert to_array(to_matrix(test_array)) == test_array\n",
    "# print(to_array(to_matrix(test_array)))"
   ]
  },
  {
   "cell_type": "markdown",
   "id": "w8oxumRb4F82",
   "metadata": {
    "id": "w8oxumRb4F82"
   },
   "source": [
    "<font color=\"red\" size=\"4\">Question 3:</font> [4 mark]\n",
    "\n",
    "Finish the AddRoundKey operated on the 4*4 2-D matrix.\n",
    "\n",
    "![Image](imgs/2.png)"
   ]
  },
  {
   "cell_type": "code",
   "execution_count": 5,
   "id": "58bd92c2",
   "metadata": {},
   "outputs": [],
   "source": [
    "## Input: 2-D byte matrix input block\n",
    "## Input: 2-D byte matrix key\n",
    "## Output: 2-D byte matrix output block \n",
    "def AddRoundKey(matrix_input, matrix_key):\n",
    "    matrix_output = [[0 for _ in range(4)] for _ in range(4)]\n",
    "    ### Your code starts ###\n",
    "    for i in range(4):\n",
    "        for j in range(4):\n",
    "            matrix_output[i][j] = matrix_input[i][j] ^ matrix_key[i][j]\n",
    "    \n",
    "\n",
    "    ### Your code ends ###\n",
    "    return matrix_output\n"
   ]
  },
  {
   "cell_type": "code",
   "execution_count": 6,
   "id": "b5340c98",
   "metadata": {},
   "outputs": [],
   "source": [
    "## For your check\n",
    "test_array_in = [0x01, 0x02, 0x03, 0x04, 0x05, 0x06, 0x07, 0x08, 0x09, 0x0A, 0x0B, 0x0C, 0x0D, 0x0E, 0x0F, 0x10]\n",
    "test_array_key = [0x01, 0x02, 0x03, 0x04, 0x05, 0x06, 0x07, 0x08, 0x09, 0x0A, 0x0B, 0x0C, 0x0D, 0x0E, 0x0F, 0x10]\n",
    "assert AddRoundKey(to_matrix(test_array_in), to_matrix(test_array_key))[2][1] == 0x00"
   ]
  },
  {
   "cell_type": "markdown",
   "id": "9b9797f1",
   "metadata": {},
   "source": [
    "<font color=\"red\" size=\"4\">Question 4:</font> [5 mark]\n",
    "\n",
    "Finish the SubBytes and its inverse opertion operated on the 4*4 2-D matrix.\n",
    "\n",
    "(Hint: the forward and inverse look-up tables have already been defined in Section 0 as 'SBOX' and 'INV_SBOX')\n",
    "\n",
    "![Image](imgs/3.png)"
   ]
  },
  {
   "cell_type": "code",
   "execution_count": 7,
   "id": "9284159d",
   "metadata": {},
   "outputs": [],
   "source": [
    "## Input: 2-D byte matrix\n",
    "## Output: 2-D byte matrix\n",
    "def SubBytes(matrix):\n",
    "    ### Your code starts ###\n",
    "    for i in range(4):\n",
    "        for j in range(4):\n",
    "            n = matrix[i][j]\n",
    "            row = n // 16 & 0x0F\n",
    "            col = n % 16 & 0x0F\n",
    "            matrix[i][j] = SBOX[row][col]\n",
    "    ### Your code ends ###\n",
    "    return matrix\n",
    "\n",
    "## Input: 2-D byte matrix\n",
    "## Output: 2-D byte matrix\n",
    "def SubBytes_inv(matrix):\n",
    "    ### Your code starts ###\n",
    "    for i in range(4):\n",
    "        for j in range(4):\n",
    "            n = matrix[i][j]\n",
    "            row = n // 16 & 0x0F\n",
    "            col = n % 16 & 0x0F\n",
    "            matrix[i][j] = INV_SBOX[row][col]\n",
    "    ### Your code ends ###\n",
    "    return matrix"
   ]
  },
  {
   "cell_type": "code",
   "execution_count": 8,
   "id": "67f25d53",
   "metadata": {},
   "outputs": [],
   "source": [
    "## For your check\n",
    "test_array = [0x01, 0x02, 0x03, 0x04, 0x05, 0x06, 0x07, 0x08, 0x09, 0x0A, 0x0B, 0x0C, 0x0D, 0x0E, 0x0F, 0x10]\n",
    "test_matrix = to_matrix(test_array)\n",
    "assert SubBytes_inv(SubBytes(test_matrix)) == test_matrix"
   ]
  },
  {
   "cell_type": "markdown",
   "id": "9b6ce712",
   "metadata": {},
   "source": [
    "<font color=\"red\" size=\"4\">Question 5:</font> [5 mark]\n",
    "\n",
    "Finish the ShiftRows and its inverse opertion operated on the 4*4 2-D matrix.\n",
    "\n",
    "![Image](imgs/4.png)"
   ]
  },
  {
   "cell_type": "code",
   "execution_count": 9,
   "id": "L6A9yvRC4mIx",
   "metadata": {
    "id": "L6A9yvRC4mIx"
   },
   "outputs": [],
   "source": [
    "## Input: 2-D byte matrix\n",
    "## Output: 2-D byte matrix\n",
    "def ShiftRows(matrix):\n",
    "    ### Your code starts ###\n",
    "    for i in range(1, 4):\n",
    "        matrix[i] = matrix[i][i:] + matrix[i][:i]\n",
    "    ### Your code ends ###\n",
    "    return matrix\n",
    "\n",
    "## Input: 2-D byte matrix\n",
    "## Output: 2-D byte matrix\n",
    "def ShiftRows_inv(matrix):\n",
    "    ### Your code starts ###\n",
    "    for i in range(1, 4):\n",
    "        matrix[i] = matrix[i][-i:] + matrix[i][:-i]\n",
    "    ### Your code ends ###\n",
    "    return matrix"
   ]
  },
  {
   "cell_type": "code",
   "execution_count": 10,
   "id": "6sc1xhH-4mW7",
   "metadata": {
    "id": "6sc1xhH-4mW7"
   },
   "outputs": [],
   "source": [
    "## For your check\n",
    "test_array = [0x01, 0x02, 0x03, 0x04, 0x05, 0x06, 0x07, 0x08, 0x09, 0x0A, 0x0B, 0x0C, 0x0D, 0x0E, 0x0F, 0x10]\n",
    "test_matrix = to_matrix(test_array)\n",
    "assert ShiftRows_inv(ShiftRows(test_matrix)) == test_matrix"
   ]
  },
  {
   "cell_type": "markdown",
   "id": "247be28f",
   "metadata": {},
   "source": [
    "<font color=\"red\" size=\"4\">Question 6:</font> [15 mark]\n",
    "\n",
    "Finish the MixColumns and its inverse opertion operated on the 4*4 2-D matrix.\n",
    "\n",
    "(Hint: the individual additions and multiplications are perfromed in $GF(2^8)$ with irreducible polynomial: $x^8 + x^4 + x^3 + x + 1$ (or 0x11b in hex).)\n",
    "\n",
    "![Image](imgs/5.png)"
   ]
  },
  {
   "cell_type": "code",
   "execution_count": 11,
   "id": "b8e5a3e0",
   "metadata": {},
   "outputs": [],
   "source": [
    "\n",
    "def mul(a, b):\n",
    "    p = 0\n",
    "    for i in range(8):\n",
    "        if b & 1:\n",
    "            p ^= a\n",
    "        high_bit_set = a & 0x80\n",
    "        a <<= 1\n",
    "        if high_bit_set:\n",
    "            a ^= 0x1B  \n",
    "        b >>= 1\n",
    "    return p & 0xFF\n",
    "\n",
    "## Input: 2-D byte matrix\n",
    "## Output: 2-D byte matrix\n",
    "def MixColumns(matrix):\n",
    "    result = [[0 for _ in range(4)] for _ in range(4)]\n",
    "    for i in range(4):\n",
    "        a = matrix[i][0]\n",
    "        b = matrix[i][1]\n",
    "        c = matrix[i][2]\n",
    "        d = matrix[i][3]\n",
    "        \n",
    "        result[i][0] = mul(2, a) ^ mul(3, b) ^ c ^ d\n",
    "        result[i][1] = a ^ mul(2, b) ^ mul(3, c) ^ d\n",
    "        result[i][2] = a ^ b ^ mul(2, c) ^ mul(3, d)\n",
    "        result[i][3] = mul(3, a) ^ b ^ c ^ mul(2, d)\n",
    "    \n",
    "    return result\n",
    "\n",
    "## Input: 2-D byte matrix\n",
    "## Output: 2-D byte matrix\n",
    "def MixColumns_inv(matrix):\n",
    "    result = [[0 for _ in range(4)] for _ in range(4)]\n",
    "    for i in range(4):\n",
    "        a = matrix[i][0]\n",
    "        b = matrix[i][1]\n",
    "        c = matrix[i][2]\n",
    "        d = matrix[i][3]\n",
    "        \n",
    "        result[i][0] = mul(0x0E, a) ^ mul(0x0B, b) ^ mul(0x0D, c) ^ mul(0x09, d)\n",
    "        result[i][1] = mul(0x09, a) ^ mul(0x0E, b) ^ mul(0x0B, c) ^ mul(0x0D, d)\n",
    "        result[i][2] = mul(0x0D, a) ^ mul(0x09, b) ^ mul(0x0E, c) ^ mul(0x0B, d)\n",
    "        result[i][3] = mul(0x0B, a) ^ mul(0x0D, b) ^ mul(0x09, c) ^ mul(0x0E, d)\n",
    "    \n",
    "    return result"
   ]
  },
  {
   "cell_type": "code",
   "execution_count": 12,
   "id": "a6a39ed7",
   "metadata": {},
   "outputs": [],
   "source": [
    "## For your check\n",
    "test_array = [0x01, 0x02, 0x03, 0x04, 0x05, 0x06, 0x07, 0x08, 0x09, 0x0A, 0x0B, 0x0C, 0x0D, 0x0E, 0x0F, 0x10]\n",
    "test_matrix = to_matrix(test_array)\n",
    "assert MixColumns_inv(MixColumns(test_matrix)) == test_matrix"
   ]
  },
  {
   "cell_type": "markdown",
   "id": "e11205f8",
   "metadata": {
    "id": "e11205f8"
   },
   "source": [
    "--------------------------------------"
   ]
  },
  {
   "cell_type": "markdown",
   "id": "520328c3",
   "metadata": {
    "id": "520328c3"
   },
   "source": [
    "## Section 1: AES-128 Key Scheduling\n",
    "#### [10 marks]\n",
    "\n",
    "Tranditional AES applies the Rijndael key schedule to expand the master key to n round keys. Now we are going to implement it.\n",
    "We use an 1-D byte array to represent the master key, and a 2-D byte array list to represent the entire expanded key.\n",
    "\n",
    "(master key: [0x11, 0x22 .....])\n",
    "\n",
    "(expanded key: [[0x11, 0x22 .....], [0x11, 0x22 .....], [0x11, 0x22 .....], ....])\n",
    "\n",
    "![Image](imgs/6.png)"
   ]
  },
  {
   "cell_type": "markdown",
   "id": "213384f5",
   "metadata": {
    "id": "213384f5"
   },
   "source": [
    "<font color=\"red\" size=\"4\">Question 7:</font> [7.5 mark]\n",
    "\n",
    "Before we implement the key expansion, we need the core function to compute the next round key. \n",
    "Recall that each round key is computed from the last round key. Finish the 'compute_next_rk' below:\n",
    "\n",
    "(Hint: Round Constant (RC) has already been defined in Section 0 as 'RCON')"
   ]
  },
  {
   "cell_type": "code",
   "execution_count": 13,
   "id": "66ef174d",
   "metadata": {
    "id": "66ef174d"
   },
   "outputs": [],
   "source": [
    "## Input: 1-D byte array for the last round key\n",
    "## Input: int for the round of computed round key \n",
    "##        (say we are computing rk1, then we invoke this function as compute_next_rk(rk0, 1))\n",
    "## Output: 1-D byte array for the next round key\n",
    "\n",
    "def compute_next_rk(current_rk, computed_round):\n",
    "    rk_matrix = to_matrix(current_rk)\n",
    "    ### Your code starts ###\n",
    "    col = [rk_matrix[i][3] for i in range(4)]\n",
    "    col = col[1:] + col[:1] \n",
    "    for i in range(4):\n",
    "        byte = col[i]\n",
    "        row = byte // 16 & 0x0F\n",
    "        coloumn = byte % 16 & 0x0F\n",
    "        col[i] = SBOX[row][coloumn]\n",
    "    col[0] ^= RCON[computed_round]\n",
    "    for i in range(4):    \n",
    "        rk_matrix[i][0] = rk_matrix[i][0] ^ col[i]\n",
    "    for j in range(1, 4):\n",
    "        for i in range(4):\n",
    "            rk_matrix[i][j] = rk_matrix[i][j - 1] ^ rk_matrix[i][j]\n",
    "\n",
    "    \n",
    "\n",
    "    ### Your code ends ###\n",
    "    next_rk = to_array(rk_matrix)\n",
    "    return next_rk\n",
    "\n"
   ]
  },
  {
   "cell_type": "markdown",
   "id": "c9f82026",
   "metadata": {},
   "source": [
    "<font color=\"red\" size=\"4\">Question 8:</font> [2.5 mark]\n",
    "\n",
    "Now finish the entire key expanison for AES 128. The input is the master key represented as an 1-D byte array. The entire expanded key is a 2-D byte array list, where each row is a round key represented as an 1-D byte array."
   ]
  },
  {
   "cell_type": "code",
   "execution_count": 14,
   "id": "cf15a29e",
   "metadata": {
    "id": "cf15a29e"
   },
   "outputs": [],
   "source": [
    "## Input: 1-D byte array for the master key\n",
    "## Output: 2-D byte array list for the entire expanded key\n",
    "def AES128_key_expansion(master_key):\n",
    "    expanded_key = []\n",
    "    ### Your code starts ###\n",
    "    for i in range(0,11):\n",
    "        if i == 0:\n",
    "            expanded_key.append(master_key[0:16])\n",
    "        else:\n",
    "            next_rk = compute_next_rk(expanded_key[-1], i)\n",
    "            expanded_key.append(next_rk)\n",
    "    ### Your code ends ###\n",
    "\n",
    "    return expanded_key\n"
   ]
  },
  {
   "cell_type": "code",
   "execution_count": 15,
   "id": "8fbc8f0c",
   "metadata": {},
   "outputs": [
    {
     "name": "stdout",
     "output_type": "stream",
     "text": [
      "[1, 2, 3, 4, 5, 6, 7, 8, 9, 10, 11, 12, 13, 14, 15, 16]\n",
      "[[1, 2, 3, 4, 5, 6, 7, 8, 9, 10, 11, 12, 13, 14, 15, 16], [171, 116, 201, 211, 174, 114, 206, 219, 167, 120, 197, 215, 170, 118, 202, 199], [145, 0, 15, 127, 63, 114, 193, 164, 152, 10, 4, 115, 50, 124, 206, 180], [133, 139, 130, 92, 186, 249, 67, 248, 34, 243, 71, 139, 16, 143, 137, 63], [254, 44, 247, 150, 68, 213, 180, 110, 102, 38, 243, 229, 118, 169, 122, 218], [61, 246, 160, 174, 121, 35, 20, 192, 31, 5, 231, 37, 105, 172, 157, 255], [140, 168, 182, 87, 245, 139, 162, 151, 234, 142, 69, 178, 131, 34, 216, 77], [95, 201, 85, 187, 170, 66, 247, 44, 64, 204, 178, 158, 195, 238, 106, 211], [247, 203, 51, 149, 93, 137, 196, 185, 29, 69, 118, 39, 222, 171, 28, 244], [142, 87, 140, 136, 211, 222, 72, 49, 206, 155, 62, 22, 16, 48, 34, 226], [188, 196, 20, 66, 111, 26, 92, 115, 161, 129, 98, 101, 177, 177, 64, 135]]\n"
     ]
    }
   ],
   "source": [
    "## For your check\n",
    "test_master_key = [0x01, 0x02, 0x03, 0x04, 0x05, 0x06, 0x07, 0x08, 0x09, 0x0A, 0x0B, 0x0C, 0x0D, 0x0E, 0x0F, 0x10]\n",
    "expanded_key = AES128_key_expansion(test_master_key)\n",
    "for round_key in expanded_key:\n",
    "    assert len(round_key) == 16\n",
    "print(test_master_key)\n",
    "print(expanded_key)"
   ]
  },
  {
   "cell_type": "markdown",
   "id": "f16518bb",
   "metadata": {},
   "source": [
    "---------------------------------------------------------"
   ]
  },
  {
   "cell_type": "markdown",
   "id": "3d6834f9",
   "metadata": {},
   "source": [
    "## Section 2: AES-128 Encryption and Decryption for one block\n",
    "#### [20 marks]\n",
    "\n",
    "\n",
    "<font color=\"red\" size=\"4\">Question 9:</font> [10 mark]\n",
    "\n",
    "Finish the encryption operation. The function take the 1-D byte array master-key and one block 1-D byte array plaintext as inputs, and output the corresponding 1-D byte array ciphertext."
   ]
  },
  {
   "cell_type": "code",
   "execution_count": 16,
   "id": "cf0ca933",
   "metadata": {},
   "outputs": [],
   "source": [
    "## Input: 1-D byte array for the master key\n",
    "## Input: 1-D byte array for one block of plaintext\n",
    "## Output: 1-D byte array for the ciphertext\n",
    "def AES128_encrypt(master_key, plaintext):\n",
    "    \n",
    "    ### Your code starts ###\n",
    "    ciphertext = plaintext.copy()\n",
    "    key = AES128_key_expansion(master_key)\n",
    "    ciphertext = to_matrix(ciphertext)\n",
    "    ciphertext = AddRoundKey(ciphertext, to_matrix(key[0]))\n",
    "    # first 9 rounds have 4 steps and are identical\n",
    "    for i in range(1, 10):\n",
    "        ciphertext = SubBytes(ciphertext)\n",
    "        ciphertext = ShiftRows(ciphertext)\n",
    "        ciphertext = MixColumns(ciphertext)\n",
    "        ciphertext = AddRoundKey(ciphertext, to_matrix(key[i]))\n",
    "    # last round has 3 steps (no mixing of coloumns)\n",
    "    ciphertext = SubBytes(ciphertext)\n",
    "    ciphertext = ShiftRows(ciphertext)\n",
    "    ciphertext = AddRoundKey(ciphertext, to_matrix(key[10]))\n",
    "    ciphertext = to_array(ciphertext)\n",
    "    ### Your code ends ###\n",
    "\n",
    "    return ciphertext\n"
   ]
  },
  {
   "cell_type": "markdown",
   "id": "0800b6a7",
   "metadata": {},
   "source": [
    "<font color=\"red\" size=\"4\">Question 10:</font> [10 mark]\n",
    "\n",
    "Finish the decryption operation. The function take the 1-D byte array master-key and one block 1-D byte array ciphertext as inputs, and output the corresponding 1-D byte array plaintext."
   ]
  },
  {
   "cell_type": "code",
   "execution_count": 17,
   "id": "1071dcf7",
   "metadata": {},
   "outputs": [],
   "source": [
    "## Input: 1-D byte array for the master key\n",
    "## Input: 1-D byte array for one block of ciphertext\n",
    "## Output: 1-D byte array for the plaintext\n",
    "def AES128_decrypt(master_key, ciphertext):\n",
    "    \n",
    "    ### Your code starts ###\n",
    "    plaintext = ciphertext.copy()\n",
    "    key = AES128_key_expansion(master_key)\n",
    "    plaintext = to_matrix(plaintext)\n",
    "    plaintext = AddRoundKey(plaintext, to_matrix(key[10]))\n",
    "    # first 9 rounds have 4 steps \n",
    "    for i in range(9, 0, -1):\n",
    "        plaintext = ShiftRows_inv(plaintext)\n",
    "        plaintext = SubBytes_inv(plaintext)\n",
    "        plaintext = AddRoundKey(plaintext, to_matrix(key[i]))\n",
    "        plaintext = MixColumns_inv(plaintext)\n",
    "    # last round only has 3 steps \n",
    "    plaintext = ShiftRows_inv(plaintext)\n",
    "    plaintext = SubBytes_inv(plaintext) \n",
    "    plaintext = AddRoundKey(plaintext, to_matrix(key[0]))\n",
    "    plaintext = to_array(plaintext)\n",
    "    ### Your code ends ###\n",
    "\n",
    "    return plaintext"
   ]
  },
  {
   "cell_type": "markdown",
   "id": "87950d40",
   "metadata": {},
   "source": [
    "---------------------------------------------------------"
   ]
  },
  {
   "cell_type": "markdown",
   "id": "09de1ee9",
   "metadata": {},
   "source": [
    "## Section 3: AES-128 with Block-Cipher Mode\n",
    "#### [20 marks]\n",
    "\n",
    "To encrypt/decrypt long messages, AES should be integrated with block-cipher modes such as CBC, CTR. Futhermore, the length of real-world plaintexts does not always be the exact multiplies of AES block size. As a result, we need pad and unpad our plaintext before encryption/after decryption. \n",
    "\n",
    "For simplicity, we consider the minimum unit for a plaintext element is <b>byte</b> in this assignment. In other words, we assume the plaintext is always a sequence of bytes, but not 19 bits/22 bits etc.\n",
    "\n",
    "Following our assumption, we pad/unpad the plaintext at <b>byte level</b> for our AES-CBC implementation. It follows:\n",
    "<li> pad: If the last block matches the AES-128 block size already, do nothing. Else, pad the last block with '0x00' until it fullfill the block.</li>\n",
    "<li> unpad: Start from the last byte, remove all continuous '0x00' until a none-zero byte comes.</li>\n",
    "\n",
    "<font color=\"red\" size=\"4\">Question 11:</font> [20 mark]\n",
    "\n",
    "We have provided the pad and unpad implementation below. Make use of them to finish the implementation for AES128_CBC_encrypt and AES128_CBC_decrypt. Both of the encryption and decrytion take an 1-D byte array IV, an 1-D byte array master key, and an 1-D byte array plaintext/ciphertext. The output is the corresponding 1-D byte array ciphertext/plaintext."
   ]
  },
  {
   "cell_type": "code",
   "execution_count": 18,
   "id": "6ddb67d4",
   "metadata": {},
   "outputs": [],
   "source": [
    "## Input: 1-D byte array for the plaintext\n",
    "## Output: 1-D byte array for the padded plaintext\n",
    "def pad(plaintext):\n",
    "    pad_elm = 0x00\n",
    "    if len(plaintext) % 16 == 0:\n",
    "        pad_len = 0\n",
    "    else:\n",
    "        pad_len = 16 - len(plaintext) % 16\n",
    "    padded_plaintext = plaintext + [pad_elm] * pad_len\n",
    "    return padded_plaintext\n",
    "\n",
    "## Input: 1-D byte array for the padded plaintext\n",
    "## Output: 1-D byte array for the unpadded plaintext\n",
    "def unpad(padded_plaintext):\n",
    "    pad_elm = 0x00\n",
    "    for i in range(len(padded_plaintext)-1, -1, -1):\n",
    "        if padded_plaintext[i] != pad_elm:\n",
    "            break\n",
    "    unpadded_plaintext = padded_plaintext[:i+1]\n",
    "    return unpadded_plaintext"
   ]
  },
  {
   "cell_type": "code",
   "execution_count": 19,
   "id": "8eb3dcc0",
   "metadata": {},
   "outputs": [],
   "source": [
    "## Input: 1-D byte array for the IV (Assume the IV is always 16 bytes)\n",
    "## Input: 1-D byte array for the master key\n",
    "## Input: 1-D byte array for the plaintext\n",
    "## Output: 1-D byte array for the ciphertext\n",
    "def AES128_CBC_encrypt(iv, master_key, plaintext):\n",
    "    padded_plaintext = pad(plaintext)\n",
    "    \n",
    "    ### Your code starts ###\n",
    "    ciphertext = []\n",
    "    num = len(padded_plaintext) // 16\n",
    "    c = iv \n",
    "    \n",
    "    for i in range(num):\n",
    "        pi = padded_plaintext[i*16:(i+1)*16]\n",
    "        xi = []\n",
    "        for j in range(16):\n",
    "            xi.append(pi[j] ^ c[j])\n",
    "        encrypted_block = AES128_encrypt(master_key, xi)\n",
    "        c = encrypted_block\n",
    "        ciphertext.extend(encrypted_block)\n",
    "    ### Your code ends ###\n",
    "\n",
    "    return ciphertext\n",
    "\n",
    "\n",
    "## Input: 1-D byte array for the IV (Assume the IV is always 16 bytes)\n",
    "## Input: 1-D byte array for the master key\n",
    "## Input: 1-D byte array for the ciphertext\n",
    "## Output: 1-D byte array for the plaintext\n",
    "def AES128_CBC_decrypt(iv, master_key, ciphertext):\n",
    "    \n",
    "    ### Your code starts ###\n",
    "    plaintext = []\n",
    "    num = len(ciphertext) // 16\n",
    "    c = iv\n",
    "    for i in range(num):\n",
    "        ci = ciphertext[i*16:(i+1)*16]\n",
    "        xi = AES128_decrypt(master_key, ci)\n",
    "        pi = []\n",
    "        for j in range(16):\n",
    "            pi.append(xi[j] ^ c[j]) \n",
    "        c = ci\n",
    "        plaintext.extend(pi)\n",
    "    \n",
    "    ### Your code ends ###\n",
    "    unpadded_plaintext = unpad(plaintext)\n",
    "    return unpadded_plaintext"
   ]
  },
  {
   "cell_type": "code",
   "execution_count": 20,
   "id": "b2629727",
   "metadata": {},
   "outputs": [
    {
     "name": "stdout",
     "output_type": "stream",
     "text": [
      "[255, 255, 255, 255, 255, 255, 255, 255, 255, 255, 255, 255, 255, 255, 255, 255, 255, 255, 255, 255, 255, 255]\n",
      "[16, 120, 168, 155, 195, 43, 249, 134, 250, 199, 148, 140, 54, 162, 2, 205, 85, 98, 84, 175, 213, 124, 46, 108, 235, 98, 94, 217, 170, 180, 6, 73]\n",
      "[255, 255, 255, 255, 255, 255, 255, 255, 255, 255, 255, 255, 255, 255, 255, 255, 255, 255, 255, 255, 255, 255]\n"
     ]
    }
   ],
   "source": [
    "## For your check\n",
    "test_plaintext = [0xff] * 22\n",
    "test_master_key = [0x01, 0x02, 0x03, 0x04, 0x05, 0x06, 0x07, 0x08, 0x09, 0x0A, 0x0B, 0x0C, 0x0D, 0x0E, 0x0F, 0x10]\n",
    "iv = [0x00] * 16\n",
    "ciphertext = AES128_CBC_encrypt(iv, test_master_key, test_plaintext)\n",
    "decrypted_plaintext = AES128_CBC_decrypt(iv, test_master_key, ciphertext)\n",
    "assert len(ciphertext) == 32\n",
    "print(test_plaintext)\n",
    "print(ciphertext)\n",
    "print(decrypted_plaintext)\n",
    "\n",
    "assert decrypted_plaintext == unpad(test_plaintext)\n",
    "assert len(decrypted_plaintext) == len(unpad(test_plaintext))"
   ]
  },
  {
   "cell_type": "markdown",
   "id": "13e44a37",
   "metadata": {},
   "source": [
    "---------------------------------------------------------"
   ]
  },
  {
   "cell_type": "markdown",
   "id": "673a0a22",
   "metadata": {},
   "source": [
    "## Section 4: Discussions\n",
    "#### [40 marks]\n",
    "\n",
    "Please answer following questions."
   ]
  },
  {
   "cell_type": "markdown",
   "id": "cec53467",
   "metadata": {},
   "source": [
    "<font color=\"red\" size=\"4\">Question 12:</font> [10 mark]\n",
    "\n",
    "A full AES round in AES-128 encryption can be concluded as a sequence of Substitute Bytes, Shift Rows, Mix Columns, and Add Round Key.\n",
    "However, AES-128 encryption starts with an individual Add Round Key before the first round starts. Explain why such an Add Round Key operation is needed before the first round starts. Or in other words, explain why AES-128 encryption does not start with a full round including all four operations directly."
   ]
  },
  {
   "cell_type": "markdown",
   "id": "8cfb5a6a",
   "metadata": {},
   "source": [
    "<span style=\"color:green;\">(Double click this block)</span> Your answer goes there..............................On adding key before the normal round steps randomises the input text chaining to another layer of security. The SBOX and Mixing rows never touches the original input. If there wont be an AddKey step in start, rounds would mix basic english words which can be prone to attack  due to repeatitive nature or language frequency analysis (like in monoalphabetic cipher). Further, adding a key in start makes the entire process symmetric while decrypting. Not doing that result in loss of symmetry.\n",
    "\n"
   ]
  },
  {
   "cell_type": "markdown",
   "id": "a09aba60",
   "metadata": {},
   "source": [
    "<font color=\"red\" size=\"4\">Question 13:</font> [10 mark]\n",
    "\n",
    "What is the problem for the padding strategy we used in our AES-CBC? Describe it, and describe a solution at the situation where only the ciphertext and its random IV can be transmitted between two parties.\n",
    "\n",
    "Note that we assume the minumum message unit is <b>byte</b>."
   ]
  },
  {
   "cell_type": "markdown",
   "id": "8e90f1a9",
   "metadata": {},
   "source": [
    "<span style=\"color:green;\">(Double click this block)</span> Your answer goes there.............................. Padding adds zero in the end of the original plaintext to make it a multiple of 16 and unpadding removes those zeros. But the problem arises when the original plaintext contains zeros in the end, then unpadding has to way to ensure whether it is removing padded zeros or original ones. This might lead to <b>loss of original data</b> \n",
    "If I pass a block of zeros of size multiple of 16, it undergoes no padding, it gets encrypted then while decrypting the unpadding process will remove the entire text which is not what we want. \n",
    "\n",
    "To solve this we can either keep a variable which stores number of zeros added while padding and attach it to the end of text. It will tell how many zeros to remove while unpadding. if N zeros were padded to plaintext remove the last zero and add N to it. This way we can keep track of how many bytes of information we have to rmeove and save us from data loss. Even if there are zeros in the end of the original plaintext it wont be disturbed. and if there is an entire block of zeros the last number will suggest no bytes to remove. After this one case remains, if there is no padding and last entry is non zero then we can check if the plaintext has n-1 trailing zeros behind the last element. \n",
    "\n",
    "An edge case is if the last row has the entries in the format of suggested padding iin the original plaintext, then we precheck this and append a block of 15 zeroes and n = 15 infront of it. This prevents the eddge case.\n",
    "\n"
   ]
  },
  {
   "cell_type": "markdown",
   "id": "14b25159",
   "metadata": {},
   "source": [
    "<font color=\"red\" size=\"4\">Question 14:</font> [20 mark]\n",
    "\n",
    "Consider an alternative usage of AES-CBC-encryption. Assume the IV is always fixed as '0x00'. Then, for arbitrary plaintext $m$, Alice use the ciphertext of the last encryption block as the unique $Tag$ for $m$. Assume an adversary can continuous query $Tag_i$ for arbitrary $m_i$ from Alice. With this power, can the adversary generate a valid $Tag_f$ for a message $m_f$ without querying it from Alice? If yes, describe the process to compute $Tag_f$. If no, describe how AES-CBC-encryption prevents such a tag forge."
   ]
  },
  {
   "cell_type": "markdown",
   "id": "c552448f",
   "metadata": {},
   "source": [
    "<span style=\"color:green;\">(Double click this block)</span> Your answer goes there..............................Yes, adversary can.\n",
    "Adversary can ask for tag of plaintext m1 and m2 individually. Remember, we are xoring with zero (iv = 0) initially. Now adversary, lets call it Eve, has two tags of m1 and m2 sat T1 nad T2. Eve can create a new message of format m1 + (m2[1] ^ T1) + m2[2] + ... + m2[n]. When CBC runs on it, in first step it processes m1 ends up with tag T1 then for next step it used the tag from previous encryption as key of next block which, here, is T1 and next block is m2[1] ^ T1, which after mixing gives back m2[i] and further steps happen the same way as it was for processing m2 individually. While encrypting m2, m2[1] (first part of m2) is mixed with vi = 0 thus keeping it unchanged which is exactly what happened in Eve's case. Thus Eve will end up with T2 as tag for this designed message.\n",
    "\n",
    "This only happens because iv = 0.\n",
    "\n"
   ]
  },
  {
   "cell_type": "markdown",
   "id": "4776dd31",
   "metadata": {},
   "source": [
    "--------------------------------------------\n",
    "\n",
    "End of this Assignemnt"
   ]
  },
  {
   "cell_type": "code",
   "execution_count": null,
   "id": "25af597f",
   "metadata": {},
   "outputs": [],
   "source": []
  }
 ],
 "metadata": {
  "colab": {
   "provenance": []
  },
  "kernelspec": {
   "display_name": "Python 3",
   "language": "python",
   "name": "python3"
  },
  "language_info": {
   "codemirror_mode": {
    "name": "ipython",
    "version": 3
   },
   "file_extension": ".py",
   "mimetype": "text/x-python",
   "name": "python",
   "nbconvert_exporter": "python",
   "pygments_lexer": "ipython3",
   "version": "3.10.0"
  }
 },
 "nbformat": 4,
 "nbformat_minor": 5
}
